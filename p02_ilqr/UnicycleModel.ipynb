{
 "cells": [
  {
   "cell_type": "code",
   "execution_count": 1,
   "id": "e4e5f94d",
   "metadata": {},
   "outputs": [],
   "source": [
    "import numpy as np\n",
    "import matplotlib.pyplot as plt\n",
    "import scipy"
   ]
  },
  {
   "cell_type": "markdown",
   "id": "b7f7c1f0",
   "metadata": {},
   "source": [
    "\\begin{equation}\n",
    "    x^{t+1} =  \\begin{pmatrix}\n",
    "                x_1^{t+1}\\\\\n",
    "                x_2^{t+1}\\\\\n",
    "                x_3^{t+1}\\\\\n",
    "                \\end{pmatrix} = f(x^{t}, u^{t}) = \\begin{pmatrix}\n",
    "                x_1^{t} + u^{t}_1cos(x_3^{t})\\delta_t\\\\\n",
    "                x_2^{t} + u^{t}_1sin(x_3^{t})\\delta_t\\\\\n",
    "                x_3^{t} + u_2^{t}\\delta_t\\\\\n",
    "                \\end{pmatrix}\n",
    "\\end{equation}"
   ]
  },
  {
   "cell_type": "markdown",
   "id": "a0166f50",
   "metadata": {},
   "source": [
    "\\begin{equation}\n",
    "    A = \\nabla_xf =  \\begin{pmatrix}1&0&u_1cos(x_3)\\delta_t\\\\\n",
    "                    0&1&u_1sin(x_3)\\delta_t\\\\\n",
    "                    0&0&1+ u_2\\\\ \\end{pmatrix}\n",
    "\\end{equation}"
   ]
  },
  {
   "cell_type": "markdown",
   "id": "be9202a8",
   "metadata": {},
   "source": [
    "\\begin{equation}\n",
    "    B = \\nabla_xf =  \\begin{pmatrix} -u_1sin(x_3)\\delta_t&0\\\\\n",
    "                    u_1cos(x_3)\\delta_t&0\\\\\n",
    "                    0&\\delta_t \\end{pmatrix}\n",
    "\\end{equation}"
   ]
  },
  {
   "cell_type": "code",
   "execution_count": 2,
   "id": "15c7ba02",
   "metadata": {},
   "outputs": [],
   "source": [
    "class Unicycle:\n",
    "    def __init__(self, x=None,max_linear_velocity=2, max_angular_velocity=np.pi/3):\n",
    "        if x is None:\n",
    "            x = np.zeros(3)\n",
    "        self.x = x\n",
    "        self.max_linear_velocity = max_linear_velocity\n",
    "        self.max_angular_velocity = max_angular_velocity \n",
    "    \n",
    "    def f(self, u, x=None, dt=0.1, save_x=True):\n",
    "        if x is None:\n",
    "            x = self.x\n",
    "            \n",
    "        # clip controls\n",
    "        u[0] = np.clip(u[0],-self.max_linear_velocity,self.max_linear_velocity)\n",
    "        u[1] = np.clip(u[1],-self.max_angular_velocity,self.max_angular_velocity)\n",
    "        \n",
    "        \n",
    "        x_prime = x.copy()\n",
    "        #x_prime[0] = ...\n",
    "        #x_prime[1] = ...\n",
    "        #x_prime[2] = ...\n",
    "        \n",
    "        if save_x:\n",
    "            self.x = x_prime\n",
    "        return x_prime\n",
    "    \n",
    "    def getA(self, u, x=None, dt=0.1):\n",
    "        if x is None:\n",
    "            x = self.x\n",
    "        \n",
    "        A = np.zeros((3,3))\n",
    "        # A = ...\n",
    "        \n",
    "        return A\n",
    "        \n",
    "    def getB(self, x=None, dt=0.1):\n",
    "        if x is None:\n",
    "            x = self.x\n",
    "            \n",
    "        B = np.zeros((3,2))\n",
    "        # B = ...\n",
    "        \n",
    "        return B\n",
    "        \n",
    "    def plot(self, x=None, ax=None):\n",
    "        if x is None:\n",
    "            x = self.x\n",
    "            \n",
    "        if ax is None:\n",
    "            ax = plt\n",
    "            \n",
    "        # function to calculate transformation of unicycle reference frame\n",
    "        get_T = lambda x, y, theta: np.array([[np.cos(theta),-np.sin(theta), x], [np.sin(theta),np.cos(theta), y], [0,0,0]])\n",
    "        \n",
    "        # function to get point from unicycle reference frame to world one\n",
    "        def get_point(T, x,y):\n",
    "            x,y,_ = T@(np.array([[x,y,1]]).T).reshape(-1)\n",
    "            return x,y\n",
    "\n",
    "        x,y,theta = x\n",
    "        T = get_T(x,y,theta)    \n",
    "        points = [(0.1,0),(0,-0.05),(0,0.05),(0.1,0)]\n",
    "        points = [get_point(T,*p) for p in points]\n",
    "        ax.plot([p[0] for p in points], [p[1] for p in points], color='red')\n"
   ]
  },
  {
   "cell_type": "code",
   "execution_count": 3,
   "id": "a595b65e",
   "metadata": {},
   "outputs": [
    {
     "data": {
      "text/plain": [
       "array([0., 0., 0.])"
      ]
     },
     "execution_count": 3,
     "metadata": {},
     "output_type": "execute_result"
    }
   ],
   "source": [
    "unicycle = Unicycle()\n",
    "unicycle.x"
   ]
  },
  {
   "cell_type": "code",
   "execution_count": 4,
   "id": "3c9f826d",
   "metadata": {},
   "outputs": [],
   "source": [
    "u = np.array([1,np.pi/3])"
   ]
  },
  {
   "cell_type": "code",
   "execution_count": 5,
   "id": "b0c1b68c",
   "metadata": {},
   "outputs": [
    {
     "data": {
      "image/png": "[encoded data removed]",
      "text/plain": [
       "<Figure size 720x720 with 1 Axes>"
      ]
     },
     "metadata": {
      "needs_background": "light"
     },
     "output_type": "display_data"
    }
   ],
   "source": [
    "plt.subplots(figsize=(10,10))\n",
    "for i in range(100):\n",
    "    unicycle.plot()\n",
    "    unicycle.f(u)\n",
    "    \n",
    "plt.show()"
   ]
  },
  {
   "cell_type": "code",
   "execution_count": null,
   "id": "1d5ffa50",
   "metadata": {},
   "outputs": [],
   "source": []
  }
 ],
 "metadata": {
  "kernelspec": {
   "display_name": "Python 3 (ipykernel)",
   "language": "python",
   "name": "python3"
  },
  "language_info": {
   "codemirror_mode": {
    "name": "ipython",
    "version": 3
   },
   "file_extension": ".py",
   "mimetype": "text/x-python",
   "name": "python",
   "nbconvert_exporter": "python",
   "pygments_lexer": "ipython3",
   "version": "3.7.11"
  }
 },
 "nbformat": 4,
 "nbformat_minor": 5
}
