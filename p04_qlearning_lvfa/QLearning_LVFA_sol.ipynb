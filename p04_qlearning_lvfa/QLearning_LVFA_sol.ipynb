{
 "cells": [
  {
   "cell_type": "code",
   "execution_count": 1,
   "id": "b37d5dff",
   "metadata": {},
   "outputs": [
    {
     "data": {
      "text/html": [
       "<style>.container { width:100% !important; }</style>"
      ],
      "text/plain": [
       "<IPython.core.display.HTML object>"
      ]
     },
     "metadata": {},
     "output_type": "display_data"
    }
   ],
   "source": [
    "from IPython.display import display, HTML\n",
    "display(HTML(\"<style>.container { width:100% !important; }</style>\"))"
   ]
  },
  {
   "cell_type": "code",
   "execution_count": 2,
   "id": "ef42d574",
   "metadata": {},
   "outputs": [],
   "source": [
    "import gym\n",
    "import numpy as np\n",
    "import random"
   ]
  },
  {
   "cell_type": "code",
   "execution_count": 3,
   "id": "62fc1b78",
   "metadata": {},
   "outputs": [],
   "source": [
    "env = gym.make('CartPole-v1')"
   ]
  },
  {
   "cell_type": "code",
   "execution_count": 4,
   "id": "53714313",
   "metadata": {},
   "outputs": [],
   "source": [
    "class VanillaFeatureEncoder:\n",
    "    def __init__(self, env):\n",
    "        self.env = env\n",
    "        \n",
    "    def encode(self, state):\n",
    "        return state\n",
    "    \n",
    "    @property\n",
    "    def size(self):\n",
    "        return self.env.observation_space.shape[0]"
   ]
  },
  {
   "cell_type": "code",
   "execution_count": 5,
   "id": "07ae6692",
   "metadata": {},
   "outputs": [],
   "source": [
    "class QLearning_LVFA:\n",
    "    def __init__(self, env, feature_encoder_cls, alpha=0.005, alpha_decay=0.9999, \n",
    "                 gamma=0.9999, epsilon=1., epsilon_decay=0.99):\n",
    "        self.env = env\n",
    "        self.feature_encoder = feature_encoder_cls(env)\n",
    "        self.shape = (self.env.action_space.n, self.feature_encoder.size)\n",
    "        self.weights = np.random.random(self.shape)\n",
    "#         self.weights = np.zeros(self.shape)\n",
    "        self.alpha = alpha\n",
    "        self.alpha_decay = alpha_decay\n",
    "        self.gamma = gamma\n",
    "        self.epsilon = epsilon\n",
    "        self.epsilon_decay = epsilon_decay\n",
    "        \n",
    "    def Q(self, feats):\n",
    "        feats = feats.reshape(-1,1)\n",
    "        return self.weights@feats\n",
    "    \n",
    "    def update_transition(self, s, action, s_prime, reward, done):\n",
    "        s_feats = self.feature_encoder.encode(s)\n",
    "        s_prime_feats = self.feature_encoder.encode(s_prime)\n",
    "        action_prime = self.epsilon_greedy(s_prime)\n",
    "        td_error = reward\n",
    "        if not done:\n",
    "            td_error += self.gamma*self.Q(s_prime_feats).max()\n",
    "#             td_error += self.gamma*self.Q(s_prime_feats)[action_prime]\n",
    "            \n",
    "        td_error -=  self.Q(s_feats)[action]\n",
    "        \n",
    "        delta_w = td_error*s_feats\n",
    "        self.weights[action] += self.alpha*delta_w\n",
    "        \n",
    "    def update_alpha_epsilon(self):\n",
    "        self.epsilon = max(0.2, self.epsilon*self.epsilon_decay)\n",
    "        self.alpha = self.alpha*self.alpha_decay\n",
    "        \n",
    "    def policy(self, state):\n",
    "        state_feats = self.feature_encoder.encode(state)\n",
    "        return self.Q(state_feats).argmax()\n",
    "    \n",
    "    def epsilon_greedy(self, state, epsilon=None):\n",
    "        if epsilon is None: epsilon = self.epsilon\n",
    "        if random.random()<epsilon:\n",
    "            return self.env.action_space.sample()\n",
    "        return self.policy(state)\n",
    "       \n",
    "        \n",
    "    def train(self, n_episodes=200, max_steps_per_episode=200):\n",
    "        for episode in range(n_episodes):\n",
    "            done = False\n",
    "            s, _ = env.reset()\n",
    "            for i in range(max_steps_per_episode):\n",
    "                \n",
    "                action = self.epsilon_greedy(s)\n",
    "                s_prime, reward, done, _, _ = self.env.step(action)\n",
    "                self.update_transition(s, action, s_prime, reward, done)\n",
    "                \n",
    "                s = s_prime\n",
    "                \n",
    "                if done: break\n",
    "                \n",
    "            self.update_alpha_epsilon()\n",
    "\n",
    "            if episode % 20 == 0:\n",
    "                print(episode, self.evaluate(), self.epsilon, self.alpha)\n",
    "                \n",
    "    def evaluate(self, env=None, n_episodes=10, max_steps_per_episode=200):\n",
    "        if env is None:\n",
    "            env = self.env\n",
    "            \n",
    "        rewards = []\n",
    "        for episode in range(n_episodes):\n",
    "            total_reward = 0\n",
    "            done = False\n",
    "            s, _ = env.reset()\n",
    "            for i in range(max_steps_per_episode):\n",
    "                action = self.policy(s)\n",
    "                \n",
    "                s_prime, reward, done, _, _ = env.step(action)\n",
    "                \n",
    "                total_reward += reward\n",
    "                s = s_prime\n",
    "                if done: break\n",
    "            \n",
    "            rewards.append(total_reward)\n",
    "            \n",
    "        return np.mean(rewards)\n"
   ]
  },
  {
   "cell_type": "code",
   "execution_count": 6,
   "id": "0dfadea5",
   "metadata": {},
   "outputs": [
    {
     "name": "stdout",
     "output_type": "stream",
     "text": [
      "0 112.5 0.99 0.0049995000000000005\n",
      "20 111.1 0.8097278682212583 0.004989510493352992\n",
      "40 128.1 0.6622820409839835 0.004979540946750601\n",
      "60 94.3 0.5416850759668536 0.004969591320310636\n",
      "80 111.3 0.44304798162617254 0.004959661574230599\n",
      "100 102.2 0.36237201786049694 0.004949751668787519\n",
      "120 103.8 0.2963865873992079 0.0049398615643377955\n",
      "140 95.8 0.24241664604458016 0.004929991221317044\n",
      "160 94.0 0.2 0.004920140600239929\n",
      "180 94.2 0.2 0.004910309661700014\n"
     ]
    }
   ],
   "source": [
    "agent = QLearning_LVFA(env, VanillaFeatureEncoder)\n",
    "agent.train()"
   ]
  },
  {
   "cell_type": "code",
   "execution_count": 7,
   "id": "46a63d7f",
   "metadata": {},
   "outputs": [
    {
     "data": {
      "text/plain": [
       "96.1"
      ]
     },
     "execution_count": 7,
     "metadata": {},
     "output_type": "execute_result"
    }
   ],
   "source": [
    "agent.evaluate()"
   ]
  },
  {
   "cell_type": "code",
   "execution_count": 8,
   "id": "ed9fbdd7",
   "metadata": {},
   "outputs": [
    {
     "data": {
      "text/plain": [
       "array([[ 0.77759332,  1.57777479, -0.2845712 , -1.70878178],\n",
       "       [ 1.35762954, -0.93265221,  0.66481105,  1.55850504]])"
      ]
     },
     "execution_count": 8,
     "metadata": {},
     "output_type": "execute_result"
    }
   ],
   "source": [
    "agent.weights"
   ]
  },
  {
   "cell_type": "code",
   "execution_count": null,
   "id": "cdcd2a8e",
   "metadata": {},
   "outputs": [],
   "source": []
  },
  {
   "cell_type": "code",
   "execution_count": null,
   "id": "e19ebba8",
   "metadata": {},
   "outputs": [],
   "source": []
  }
 ],
 "metadata": {
  "kernelspec": {
   "display_name": "Python 3 (ipykernel)",
   "language": "python",
   "name": "python3"
  },
  "language_info": {
   "codemirror_mode": {
    "name": "ipython",
    "version": 3
   },
   "file_extension": ".py",
   "mimetype": "text/x-python",
   "name": "python",
   "nbconvert_exporter": "python",
   "pygments_lexer": "ipython3",
   "version": "3.7.11"
  }
 },
 "nbformat": 4,
 "nbformat_minor": 5
}
